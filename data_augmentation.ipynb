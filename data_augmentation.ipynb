{
 "cells": [
  {
   "cell_type": "markdown",
   "metadata": {},
   "source": [
    "# Data Augmentation\n",
    "- EDA(Easy Data Augmentation)기법 사용\n",
    "- https://arxiv.org/pdf/1901.11196.pdf\n",
    "- 아래 4가지 방법중 하나를 선택하여 증강\n",
    "\n",
    "> 1. SR(Synonym Replacement) : 불용어가 아닌 n개의 단어를 랜덤하게 뽑고 임의로 선택한 동의어와 바꾼다.\n",
    "2. RI(Random Insertion) : 문장 안에 불용어가 아닌 임의의 단어를 선택해 해당 단어의 임의의 동의어를 랜덤한 위치에 삽입한다.(n번 반복)\n",
    "3. RS(Random Swap) : 문장에서 임의의 두 단어를 선택하고 자리를 바꾼다.(n번 반복)\n",
    "4. RD(Random Delection) : 문장에서 임의의 단어를 p의 확률로 삭제\n",
    "\n",
    "- EDA를 한국어로 쓸 수 있도록 wordnet부분만 교체한 KorEDA 사용\n",
    "(https://github.com/catSirup/KorEDA)"
   ]
  },
  {
   "cell_type": "code",
   "execution_count": 94,
   "metadata": {},
   "outputs": [],
   "source": [
    "import pandas as pd\n",
    "import csv\n",
    "import numpy as np"
   ]
  },
  {
   "cell_type": "code",
   "execution_count": 1,
   "metadata": {},
   "outputs": [
    {
     "name": "stderr",
     "output_type": "stream",
     "text": [
      "Cloning into 'KorEDA'...\n"
     ]
    }
   ],
   "source": [
    "!git clone https://github.com/catSirup/KorEDA.git"
   ]
  },
  {
   "cell_type": "code",
   "execution_count": 16,
   "metadata": {},
   "outputs": [
    {
     "name": "stdout",
     "output_type": "stream",
     "text": [
      "C:\\Users\\Yong\\코드스테이츠 AI\\프리온보딩\\KorEDA\n"
     ]
    }
   ],
   "source": [
    "cd KorEDA"
   ]
  },
  {
   "cell_type": "code",
   "execution_count": 17,
   "metadata": {},
   "outputs": [],
   "source": [
    "from eda import *"
   ]
  },
  {
   "cell_type": "code",
   "execution_count": 18,
   "metadata": {},
   "outputs": [
    {
     "name": "stdout",
     "output_type": "stream",
     "text": [
      "C:\\Users\\Yong\\코드스테이츠 AI\\프리온보딩\n"
     ]
    }
   ],
   "source": [
    "cd .."
   ]
  },
  {
   "cell_type": "code",
   "execution_count": 66,
   "metadata": {},
   "outputs": [],
   "source": [
    "# 원본 데이터\n",
    "train_ = pd.read_json('./klue-sts-v1.1/klue-sts-v1.1_train.json') # 11668x6\n",
    "test_ = pd.read_json('./klue-sts-v1.1/klue-sts-v1.1_dev.json')    # 519x6"
   ]
  },
  {
   "cell_type": "code",
   "execution_count": 67,
   "metadata": {},
   "outputs": [
    {
     "data": {
      "text/html": [
       "<div>\n",
       "<style scoped>\n",
       "    .dataframe tbody tr th:only-of-type {\n",
       "        vertical-align: middle;\n",
       "    }\n",
       "\n",
       "    .dataframe tbody tr th {\n",
       "        vertical-align: top;\n",
       "    }\n",
       "\n",
       "    .dataframe thead th {\n",
       "        text-align: right;\n",
       "    }\n",
       "</style>\n",
       "<table border=\"1\" class=\"dataframe\">\n",
       "  <thead>\n",
       "    <tr style=\"text-align: right;\">\n",
       "      <th></th>\n",
       "      <th>guid</th>\n",
       "      <th>source</th>\n",
       "      <th>sentence1</th>\n",
       "      <th>sentence2</th>\n",
       "      <th>labels</th>\n",
       "      <th>annotations</th>\n",
       "    </tr>\n",
       "  </thead>\n",
       "  <tbody>\n",
       "    <tr>\n",
       "      <th>0</th>\n",
       "      <td>klue-sts-v1_dev_00000</td>\n",
       "      <td>airbnb-rtt</td>\n",
       "      <td>무엇보다도 호스트분들이 너무 친절하셨습니다.</td>\n",
       "      <td>무엇보다도, 호스트들은 매우 친절했습니다.</td>\n",
       "      <td>{'label': 4.9, 'real-label': 4.857142857142857...</td>\n",
       "      <td>{'agreement': '0:0:0:0:1:6', 'annotators': ['1...</td>\n",
       "    </tr>\n",
       "    <tr>\n",
       "      <th>1</th>\n",
       "      <td>klue-sts-v1_dev_00001</td>\n",
       "      <td>airbnb-sampled</td>\n",
       "      <td>주요 관광지 모두 걸어서 이동가능합니다.</td>\n",
       "      <td>위치는 피렌체 중심가까지 걸어서 이동 가능합니다.</td>\n",
       "      <td>{'label': 1.4, 'real-label': 1.428571428571429...</td>\n",
       "      <td>{'agreement': '0:4:3:0:0:0', 'annotators': ['1...</td>\n",
       "    </tr>\n",
       "    <tr>\n",
       "      <th>2</th>\n",
       "      <td>klue-sts-v1_dev_00002</td>\n",
       "      <td>policy-sampled</td>\n",
       "      <td>학생들의 균형 있는 영어능력을 향상시킬 수 있는 학교 수업을 유도하기 위해 2018...</td>\n",
       "      <td>영어 영역의 경우 학생들이 한글 해석본을 암기하는 문제를 해소하기 위해 2016학년...</td>\n",
       "      <td>{'label': 1.3, 'real-label': 1.285714285714286...</td>\n",
       "      <td>{'agreement': '0:5:2:0:0:0', 'annotators': ['0...</td>\n",
       "    </tr>\n",
       "    <tr>\n",
       "      <th>3</th>\n",
       "      <td>klue-sts-v1_dev_00003</td>\n",
       "      <td>airbnb-rtt</td>\n",
       "      <td>다만, 도로와 인접해서 거리의 소음이 들려요.</td>\n",
       "      <td>하지만, 길과 가깝기 때문에 거리의 소음을 들을 수 있습니다.</td>\n",
       "      <td>{'label': 3.7, 'real-label': 3.714285714285714...</td>\n",
       "      <td>{'agreement': '0:0:0:2:5:0', 'annotators': ['1...</td>\n",
       "    </tr>\n",
       "    <tr>\n",
       "      <th>4</th>\n",
       "      <td>klue-sts-v1_dev_00004</td>\n",
       "      <td>paraKQC-para</td>\n",
       "      <td>형이 다시 캐나다 들어가야 하니 가족모임 일정은 바꾸지 마세요.</td>\n",
       "      <td>가족 모임 일정은 바꾸지 말도록 하십시오.</td>\n",
       "      <td>{'label': 2.5, 'real-label': 2.5, 'binary-labe...</td>\n",
       "      <td>{'agreement': '1:0:1:3:1:0', 'annotators': ['0...</td>\n",
       "    </tr>\n",
       "  </tbody>\n",
       "</table>\n",
       "</div>"
      ],
      "text/plain": [
       "                    guid          source  \\\n",
       "0  klue-sts-v1_dev_00000      airbnb-rtt   \n",
       "1  klue-sts-v1_dev_00001  airbnb-sampled   \n",
       "2  klue-sts-v1_dev_00002  policy-sampled   \n",
       "3  klue-sts-v1_dev_00003      airbnb-rtt   \n",
       "4  klue-sts-v1_dev_00004    paraKQC-para   \n",
       "\n",
       "                                           sentence1  \\\n",
       "0                           무엇보다도 호스트분들이 너무 친절하셨습니다.   \n",
       "1                             주요 관광지 모두 걸어서 이동가능합니다.   \n",
       "2  학생들의 균형 있는 영어능력을 향상시킬 수 있는 학교 수업을 유도하기 위해 2018...   \n",
       "3                          다만, 도로와 인접해서 거리의 소음이 들려요.   \n",
       "4                형이 다시 캐나다 들어가야 하니 가족모임 일정은 바꾸지 마세요.   \n",
       "\n",
       "                                           sentence2  \\\n",
       "0                            무엇보다도, 호스트들은 매우 친절했습니다.   \n",
       "1                        위치는 피렌체 중심가까지 걸어서 이동 가능합니다.   \n",
       "2  영어 영역의 경우 학생들이 한글 해석본을 암기하는 문제를 해소하기 위해 2016학년...   \n",
       "3                 하지만, 길과 가깝기 때문에 거리의 소음을 들을 수 있습니다.   \n",
       "4                            가족 모임 일정은 바꾸지 말도록 하십시오.   \n",
       "\n",
       "                                              labels  \\\n",
       "0  {'label': 4.9, 'real-label': 4.857142857142857...   \n",
       "1  {'label': 1.4, 'real-label': 1.428571428571429...   \n",
       "2  {'label': 1.3, 'real-label': 1.285714285714286...   \n",
       "3  {'label': 3.7, 'real-label': 3.714285714285714...   \n",
       "4  {'label': 2.5, 'real-label': 2.5, 'binary-labe...   \n",
       "\n",
       "                                         annotations  \n",
       "0  {'agreement': '0:0:0:0:1:6', 'annotators': ['1...  \n",
       "1  {'agreement': '0:4:3:0:0:0', 'annotators': ['1...  \n",
       "2  {'agreement': '0:5:2:0:0:0', 'annotators': ['0...  \n",
       "3  {'agreement': '0:0:0:2:5:0', 'annotators': ['1...  \n",
       "4  {'agreement': '1:0:1:3:1:0', 'annotators': ['0...  "
      ]
     },
     "execution_count": 67,
     "metadata": {},
     "output_type": "execute_result"
    }
   ],
   "source": [
    "test_.head()"
   ]
  },
  {
   "cell_type": "code",
   "execution_count": 68,
   "metadata": {},
   "outputs": [
    {
     "data": {
      "text/plain": [
       "'숙소 위치는 찾기 쉽고 일반적인 한국의 반지하 숙소입니다.'"
      ]
     },
     "execution_count": 68,
     "metadata": {},
     "output_type": "execute_result"
    }
   ],
   "source": [
    "train_['sentence1'][0]"
   ]
  },
  {
   "cell_type": "code",
   "execution_count": 69,
   "metadata": {},
   "outputs": [
    {
     "data": {
      "text/plain": [
       "['반지하 위치는 찾기 쉽고 일반적인 한국의 숙소 숙소입니다.',\n",
       " '숙소 위치는 찾기 쉽고 일반적인 한국의 반지하 숙소입니다.',\n",
       " '숙소 위치는 찾기 숙 쉽고 일반적인 한국의 반지하 숙소입니다.',\n",
       " '숙 위치는 찾기 쉽고 일반적인 한국의 반지하 숙소입니다.',\n",
       " '숙소 위치는 찾기 쉽고 일반적인 한국의 반지하 숙소입니다.',\n",
       " '숙소 위치는 찾기 쉽고 일반적인 한국의 반지하 숙소입니다.']"
      ]
     },
     "execution_count": 69,
     "metadata": {},
     "output_type": "execute_result"
    }
   ],
   "source": [
    "EDA(train_['sentence1'][0], num_aug=5)    # 예시"
   ]
  },
  {
   "cell_type": "markdown",
   "metadata": {},
   "source": [
    "### 한계점\n",
    "- wordnet만을 단순히 바꿔서 결과를 내기때문에 의미가 변형되는 경우가 생김\n",
    "- 특히 SR,RI에서 많이 발생 예) 잘못한 건 아니다 -> 잘못한 총 아니다\n",
    "- 안전하게 데이터 증강하기 위하여 **RD, RS**만 사용하여 증강"
   ]
  },
  {
   "cell_type": "code",
   "execution_count": 70,
   "metadata": {},
   "outputs": [],
   "source": [
    "# EDA를 사용한 후에도 중복된 문장 제거필요\n",
    "\n",
    "def remove_duplicate(x):\n",
    "    return list(dict.fromkeys(x))"
   ]
  },
  {
   "cell_type": "code",
   "execution_count": 71,
   "metadata": {},
   "outputs": [],
   "source": [
    "augment = []\n",
    "new_sentence = test_['sentence1']\n",
    "\n",
    "for x in new_sentence:\n",
    "    aug_list = remove_duplicate(EDA(x, num_aug=5))\n",
    "    augment.append(aug_list)"
   ]
  },
  {
   "cell_type": "code",
   "execution_count": 72,
   "metadata": {},
   "outputs": [
    {
     "data": {
      "text/plain": [
       "['호스트분들이 무엇보다도 너무 친절하셨습니다.',\n",
       " '친절하셨습니다. 호스트분들이 너무 무엇보다도',\n",
       " '무엇보다도 호스트분들이 너무 친절하셨습니다.']"
      ]
     },
     "execution_count": 72,
     "metadata": {},
     "output_type": "execute_result"
    }
   ],
   "source": [
    "augment[0]"
   ]
  },
  {
   "cell_type": "code",
   "execution_count": 73,
   "metadata": {},
   "outputs": [],
   "source": [
    "z = len(test_)\n",
    "for x in range(len(augment)):\n",
    "    for y in range(len(augment[x])):\n",
    "        test_ = test_.append(test_.loc[x], ignore_index=True)\n",
    "        z += 1\n",
    "        test_.loc[z, 'sentence1'] = augment[x][y]"
   ]
  },
  {
   "cell_type": "code",
   "execution_count": 74,
   "metadata": {},
   "outputs": [
    {
     "data": {
      "text/plain": [
       "2436"
      ]
     },
     "execution_count": 74,
     "metadata": {},
     "output_type": "execute_result"
    }
   ],
   "source": [
    "len(test_)   # 519 -> 2436"
   ]
  },
  {
   "cell_type": "code",
   "execution_count": 79,
   "metadata": {},
   "outputs": [
    {
     "data": {
      "text/plain": [
       "guid                                       klue-sts-v1_dev_00000\n",
       "source                                                airbnb-rtt\n",
       "sentence1                               무엇보다도 호스트분들이 너무 친절하셨습니다.\n",
       "sentence2                                무엇보다도, 호스트들은 매우 친절했습니다.\n",
       "labels         {'label': 4.9, 'real-label': 4.857142857142857...\n",
       "annotations    {'agreement': '0:0:0:0:1:6', 'annotators': ['1...\n",
       "Name: 0, dtype: object"
      ]
     },
     "execution_count": 79,
     "metadata": {},
     "output_type": "execute_result"
    }
   ],
   "source": [
    "test_.loc[0]"
   ]
  },
  {
   "cell_type": "code",
   "execution_count": 81,
   "metadata": {},
   "outputs": [
    {
     "data": {
      "text/plain": [
       "guid                                       klue-sts-v1_dev_00000\n",
       "source                                                airbnb-rtt\n",
       "sentence1                               친절하셨습니다. 호스트분들이 너무 무엇보다도\n",
       "sentence2                                무엇보다도, 호스트들은 매우 친절했습니다.\n",
       "labels         {'label': 4.9, 'real-label': 4.857142857142857...\n",
       "annotations    {'agreement': '0:0:0:0:1:6', 'annotators': ['1...\n",
       "Name: 521, dtype: object"
      ]
     },
     "execution_count": 81,
     "metadata": {},
     "output_type": "execute_result"
    }
   ],
   "source": [
    "test_.loc[521]"
   ]
  },
  {
   "cell_type": "code",
   "execution_count": 82,
   "metadata": {},
   "outputs": [
    {
     "data": {
      "text/plain": [
       "520"
      ]
     },
     "execution_count": 82,
     "metadata": {},
     "output_type": "execute_result"
    }
   ],
   "source": [
    "# 중복 확인\n",
    "test_.duplicated(['sentence1', 'sentence2']).sum()"
   ]
  },
  {
   "cell_type": "code",
   "execution_count": 87,
   "metadata": {},
   "outputs": [
    {
     "data": {
      "text/plain": [
       "5"
      ]
     },
     "execution_count": 87,
     "metadata": {},
     "output_type": "execute_result"
    }
   ],
   "source": [
    "# 결측치 확인\n",
    "test_.isnull().sum().sum()"
   ]
  },
  {
   "cell_type": "code",
   "execution_count": 89,
   "metadata": {},
   "outputs": [
    {
     "name": "stderr",
     "output_type": "stream",
     "text": [
      "C:\\Users\\Yong\\anaconda3\\lib\\site-packages\\pandas\\util\\_decorators.py:311: SettingWithCopyWarning: \n",
      "A value is trying to be set on a copy of a slice from a DataFrame\n",
      "\n",
      "See the caveats in the documentation: https://pandas.pydata.org/pandas-docs/stable/user_guide/indexing.html#returning-a-view-versus-a-copy\n",
      "  return func(*args, **kwargs)\n"
     ]
    }
   ],
   "source": [
    "# 중복, 결측치 행 제거\n",
    "test_ = test_.drop_duplicates(['sentence1', 'sentence2'], keep='first', ignore_index=True)\n",
    "test_.dropna(axis=0, inplace=True)"
   ]
  },
  {
   "cell_type": "code",
   "execution_count": 91,
   "metadata": {},
   "outputs": [
    {
     "data": {
      "text/plain": [
       "guid           0\n",
       "source         0\n",
       "sentence1      0\n",
       "sentence2      0\n",
       "labels         0\n",
       "annotations    0\n",
       "dtype: int64"
      ]
     },
     "execution_count": 91,
     "metadata": {},
     "output_type": "execute_result"
    }
   ],
   "source": [
    "test_.isnull().sum()"
   ]
  },
  {
   "cell_type": "code",
   "execution_count": 92,
   "metadata": {},
   "outputs": [
    {
     "data": {
      "text/plain": [
       "0"
      ]
     },
     "execution_count": 92,
     "metadata": {},
     "output_type": "execute_result"
    }
   ],
   "source": [
    "test_.duplicated(['sentence1', 'sentence2']).sum()"
   ]
  },
  {
   "cell_type": "code",
   "execution_count": 93,
   "metadata": {},
   "outputs": [
    {
     "data": {
      "text/html": [
       "<div>\n",
       "<style scoped>\n",
       "    .dataframe tbody tr th:only-of-type {\n",
       "        vertical-align: middle;\n",
       "    }\n",
       "\n",
       "    .dataframe tbody tr th {\n",
       "        vertical-align: top;\n",
       "    }\n",
       "\n",
       "    .dataframe thead th {\n",
       "        text-align: right;\n",
       "    }\n",
       "</style>\n",
       "<table border=\"1\" class=\"dataframe\">\n",
       "  <thead>\n",
       "    <tr style=\"text-align: right;\">\n",
       "      <th></th>\n",
       "      <th>guid</th>\n",
       "      <th>source</th>\n",
       "      <th>sentence1</th>\n",
       "      <th>sentence2</th>\n",
       "      <th>labels</th>\n",
       "      <th>annotations</th>\n",
       "    </tr>\n",
       "  </thead>\n",
       "  <tbody>\n",
       "    <tr>\n",
       "      <th>0</th>\n",
       "      <td>klue-sts-v1_dev_00000</td>\n",
       "      <td>airbnb-rtt</td>\n",
       "      <td>무엇보다도 호스트분들이 너무 친절하셨습니다.</td>\n",
       "      <td>무엇보다도, 호스트들은 매우 친절했습니다.</td>\n",
       "      <td>{'label': 4.9, 'real-label': 4.857142857142857...</td>\n",
       "      <td>{'agreement': '0:0:0:0:1:6', 'annotators': ['1...</td>\n",
       "    </tr>\n",
       "    <tr>\n",
       "      <th>1</th>\n",
       "      <td>klue-sts-v1_dev_00001</td>\n",
       "      <td>airbnb-sampled</td>\n",
       "      <td>주요 관광지 모두 걸어서 이동가능합니다.</td>\n",
       "      <td>위치는 피렌체 중심가까지 걸어서 이동 가능합니다.</td>\n",
       "      <td>{'label': 1.4, 'real-label': 1.428571428571429...</td>\n",
       "      <td>{'agreement': '0:4:3:0:0:0', 'annotators': ['1...</td>\n",
       "    </tr>\n",
       "    <tr>\n",
       "      <th>2</th>\n",
       "      <td>klue-sts-v1_dev_00002</td>\n",
       "      <td>policy-sampled</td>\n",
       "      <td>학생들의 균형 있는 영어능력을 향상시킬 수 있는 학교 수업을 유도하기 위해 2018...</td>\n",
       "      <td>영어 영역의 경우 학생들이 한글 해석본을 암기하는 문제를 해소하기 위해 2016학년...</td>\n",
       "      <td>{'label': 1.3, 'real-label': 1.285714285714286...</td>\n",
       "      <td>{'agreement': '0:5:2:0:0:0', 'annotators': ['0...</td>\n",
       "    </tr>\n",
       "    <tr>\n",
       "      <th>3</th>\n",
       "      <td>klue-sts-v1_dev_00003</td>\n",
       "      <td>airbnb-rtt</td>\n",
       "      <td>다만, 도로와 인접해서 거리의 소음이 들려요.</td>\n",
       "      <td>하지만, 길과 가깝기 때문에 거리의 소음을 들을 수 있습니다.</td>\n",
       "      <td>{'label': 3.7, 'real-label': 3.714285714285714...</td>\n",
       "      <td>{'agreement': '0:0:0:2:5:0', 'annotators': ['1...</td>\n",
       "    </tr>\n",
       "    <tr>\n",
       "      <th>4</th>\n",
       "      <td>klue-sts-v1_dev_00004</td>\n",
       "      <td>paraKQC-para</td>\n",
       "      <td>형이 다시 캐나다 들어가야 하니 가족모임 일정은 바꾸지 마세요.</td>\n",
       "      <td>가족 모임 일정은 바꾸지 말도록 하십시오.</td>\n",
       "      <td>{'label': 2.5, 'real-label': 2.5, 'binary-labe...</td>\n",
       "      <td>{'agreement': '1:0:1:3:1:0', 'annotators': ['0...</td>\n",
       "    </tr>\n",
       "    <tr>\n",
       "      <th>...</th>\n",
       "      <td>...</td>\n",
       "      <td>...</td>\n",
       "      <td>...</td>\n",
       "      <td>...</td>\n",
       "      <td>...</td>\n",
       "      <td>...</td>\n",
       "    </tr>\n",
       "    <tr>\n",
       "      <th>1911</th>\n",
       "      <td>klue-sts-v1_dev_00516</td>\n",
       "      <td>airbnb-sampled</td>\n",
       "      <td>게스트에 배려가 대한 묻어나는 시설들이었습니다.</td>\n",
       "      <td>우선 공간에 대한 센스가 돋보이는 곳이었습니다.</td>\n",
       "      <td>{'label': 0.30000000000000004, 'real-label': 0...</td>\n",
       "      <td>{'agreement': '4:2:0:0:0:0', 'annotators': ['1...</td>\n",
       "    </tr>\n",
       "    <tr>\n",
       "      <th>1912</th>\n",
       "      <td>klue-sts-v1_dev_00517</td>\n",
       "      <td>policy-sampled</td>\n",
       "      <td>밤하늘을 펼쳐진다. ‘비대면 드론쇼’도 배경으로</td>\n",
       "      <td>‘비대면 실감형 문화공연 플랫폼’ 개념도.</td>\n",
       "      <td>{'label': 0.30000000000000004, 'real-label': 0...</td>\n",
       "      <td>{'agreement': '5:0:1:0:0:0', 'annotators': ['0...</td>\n",
       "    </tr>\n",
       "    <tr>\n",
       "      <th>1913</th>\n",
       "      <td>klue-sts-v1_dev_00517</td>\n",
       "      <td>policy-sampled</td>\n",
       "      <td>드론쇼’도 배경으로 ‘비대면 밤하늘을 펼쳐진다.</td>\n",
       "      <td>‘비대면 실감형 문화공연 플랫폼’ 개념도.</td>\n",
       "      <td>{'label': 0.30000000000000004, 'real-label': 0...</td>\n",
       "      <td>{'agreement': '5:0:1:0:0:0', 'annotators': ['0...</td>\n",
       "    </tr>\n",
       "    <tr>\n",
       "      <th>1914</th>\n",
       "      <td>klue-sts-v1_dev_00518</td>\n",
       "      <td>airbnb-sampled</td>\n",
       "      <td>엘리베이터는 포르투갈의 비앤비와 같이 여느 없습니다.</td>\n",
       "      <td>포르투의 거의 모든 숙박 시설은 엘리베이터는 없습니다.</td>\n",
       "      <td>{'label': 2.9, 'real-label': 2.857142857142857...</td>\n",
       "      <td>{'agreement': '0:0:2:4:1:0', 'annotators': ['0...</td>\n",
       "    </tr>\n",
       "    <tr>\n",
       "      <th>1915</th>\n",
       "      <td>klue-sts-v1_dev_00518</td>\n",
       "      <td>airbnb-sampled</td>\n",
       "      <td>없습니다. 포르투갈의 비앤비와 같이 엘리베이터는 여느</td>\n",
       "      <td>포르투의 거의 모든 숙박 시설은 엘리베이터는 없습니다.</td>\n",
       "      <td>{'label': 2.9, 'real-label': 2.857142857142857...</td>\n",
       "      <td>{'agreement': '0:0:2:4:1:0', 'annotators': ['0...</td>\n",
       "    </tr>\n",
       "  </tbody>\n",
       "</table>\n",
       "<p>1915 rows × 6 columns</p>\n",
       "</div>"
      ],
      "text/plain": [
       "                       guid          source  \\\n",
       "0     klue-sts-v1_dev_00000      airbnb-rtt   \n",
       "1     klue-sts-v1_dev_00001  airbnb-sampled   \n",
       "2     klue-sts-v1_dev_00002  policy-sampled   \n",
       "3     klue-sts-v1_dev_00003      airbnb-rtt   \n",
       "4     klue-sts-v1_dev_00004    paraKQC-para   \n",
       "...                     ...             ...   \n",
       "1911  klue-sts-v1_dev_00516  airbnb-sampled   \n",
       "1912  klue-sts-v1_dev_00517  policy-sampled   \n",
       "1913  klue-sts-v1_dev_00517  policy-sampled   \n",
       "1914  klue-sts-v1_dev_00518  airbnb-sampled   \n",
       "1915  klue-sts-v1_dev_00518  airbnb-sampled   \n",
       "\n",
       "                                              sentence1  \\\n",
       "0                              무엇보다도 호스트분들이 너무 친절하셨습니다.   \n",
       "1                                주요 관광지 모두 걸어서 이동가능합니다.   \n",
       "2     학생들의 균형 있는 영어능력을 향상시킬 수 있는 학교 수업을 유도하기 위해 2018...   \n",
       "3                             다만, 도로와 인접해서 거리의 소음이 들려요.   \n",
       "4                   형이 다시 캐나다 들어가야 하니 가족모임 일정은 바꾸지 마세요.   \n",
       "...                                                 ...   \n",
       "1911                         게스트에 배려가 대한 묻어나는 시설들이었습니다.   \n",
       "1912                         밤하늘을 펼쳐진다. ‘비대면 드론쇼’도 배경으로   \n",
       "1913                         드론쇼’도 배경으로 ‘비대면 밤하늘을 펼쳐진다.   \n",
       "1914                      엘리베이터는 포르투갈의 비앤비와 같이 여느 없습니다.   \n",
       "1915                      없습니다. 포르투갈의 비앤비와 같이 엘리베이터는 여느   \n",
       "\n",
       "                                              sentence2  \\\n",
       "0                               무엇보다도, 호스트들은 매우 친절했습니다.   \n",
       "1                           위치는 피렌체 중심가까지 걸어서 이동 가능합니다.   \n",
       "2     영어 영역의 경우 학생들이 한글 해석본을 암기하는 문제를 해소하기 위해 2016학년...   \n",
       "3                    하지만, 길과 가깝기 때문에 거리의 소음을 들을 수 있습니다.   \n",
       "4                               가족 모임 일정은 바꾸지 말도록 하십시오.   \n",
       "...                                                 ...   \n",
       "1911                         우선 공간에 대한 센스가 돋보이는 곳이었습니다.   \n",
       "1912                            ‘비대면 실감형 문화공연 플랫폼’ 개념도.   \n",
       "1913                            ‘비대면 실감형 문화공연 플랫폼’ 개념도.   \n",
       "1914                     포르투의 거의 모든 숙박 시설은 엘리베이터는 없습니다.   \n",
       "1915                     포르투의 거의 모든 숙박 시설은 엘리베이터는 없습니다.   \n",
       "\n",
       "                                                 labels  \\\n",
       "0     {'label': 4.9, 'real-label': 4.857142857142857...   \n",
       "1     {'label': 1.4, 'real-label': 1.428571428571429...   \n",
       "2     {'label': 1.3, 'real-label': 1.285714285714286...   \n",
       "3     {'label': 3.7, 'real-label': 3.714285714285714...   \n",
       "4     {'label': 2.5, 'real-label': 2.5, 'binary-labe...   \n",
       "...                                                 ...   \n",
       "1911  {'label': 0.30000000000000004, 'real-label': 0...   \n",
       "1912  {'label': 0.30000000000000004, 'real-label': 0...   \n",
       "1913  {'label': 0.30000000000000004, 'real-label': 0...   \n",
       "1914  {'label': 2.9, 'real-label': 2.857142857142857...   \n",
       "1915  {'label': 2.9, 'real-label': 2.857142857142857...   \n",
       "\n",
       "                                            annotations  \n",
       "0     {'agreement': '0:0:0:0:1:6', 'annotators': ['1...  \n",
       "1     {'agreement': '0:4:3:0:0:0', 'annotators': ['1...  \n",
       "2     {'agreement': '0:5:2:0:0:0', 'annotators': ['0...  \n",
       "3     {'agreement': '0:0:0:2:5:0', 'annotators': ['1...  \n",
       "4     {'agreement': '1:0:1:3:1:0', 'annotators': ['0...  \n",
       "...                                                 ...  \n",
       "1911  {'agreement': '4:2:0:0:0:0', 'annotators': ['1...  \n",
       "1912  {'agreement': '5:0:1:0:0:0', 'annotators': ['0...  \n",
       "1913  {'agreement': '5:0:1:0:0:0', 'annotators': ['0...  \n",
       "1914  {'agreement': '0:0:2:4:1:0', 'annotators': ['0...  \n",
       "1915  {'agreement': '0:0:2:4:1:0', 'annotators': ['0...  \n",
       "\n",
       "[1915 rows x 6 columns]"
      ]
     },
     "execution_count": 93,
     "metadata": {},
     "output_type": "execute_result"
    }
   ],
   "source": [
    "test_"
   ]
  },
  {
   "cell_type": "code",
   "execution_count": 95,
   "metadata": {},
   "outputs": [],
   "source": [
    "# augmentation 함수화\n",
    "def remove_duplicate(x):\n",
    "    return list(dict.fromkeys(x))\n",
    "\n",
    "def augmentation(data, num_aug):     # 데이터, 문장 당 증강할 수\n",
    "    augment = []\n",
    "    z = len(data)\n",
    "    sents = data['sentence1']\n",
    "\n",
    "    for i in sents:\n",
    "        aug_list = remove_duplicate(EDA(i, num_aug=num_aug))  # EDA(rd,rs)한 문장 리스트\n",
    "        augment.append(aug_list)\n",
    "\n",
    "    for x in range(len(augment)):\n",
    "        for y in range(len(augment[x])):\n",
    "            data = data.append(data.loc[x], ignore_index=True)\n",
    "            z += 1\n",
    "            data.loc[z, 'sentence1'] = augment[x][y]\n",
    "            \n",
    "    data = data.drop_duplicates(['sentence1', 'sentence2'], keep='first', ignore_index=True)\n",
    "    data.dropna(axis=0, inplace=True)  # 중복 및 결측치 행 제거\n",
    "    \n",
    "    return data"
   ]
  },
  {
   "cell_type": "code",
   "execution_count": 98,
   "metadata": {},
   "outputs": [
    {
     "data": {
      "text/html": [
       "<div>\n",
       "<style scoped>\n",
       "    .dataframe tbody tr th:only-of-type {\n",
       "        vertical-align: middle;\n",
       "    }\n",
       "\n",
       "    .dataframe tbody tr th {\n",
       "        vertical-align: top;\n",
       "    }\n",
       "\n",
       "    .dataframe thead th {\n",
       "        text-align: right;\n",
       "    }\n",
       "</style>\n",
       "<table border=\"1\" class=\"dataframe\">\n",
       "  <thead>\n",
       "    <tr style=\"text-align: right;\">\n",
       "      <th></th>\n",
       "      <th>guid</th>\n",
       "      <th>source</th>\n",
       "      <th>sentence1</th>\n",
       "      <th>sentence2</th>\n",
       "      <th>labels</th>\n",
       "      <th>annotations</th>\n",
       "    </tr>\n",
       "  </thead>\n",
       "  <tbody>\n",
       "    <tr>\n",
       "      <th>0</th>\n",
       "      <td>klue-sts-v1_train_00000</td>\n",
       "      <td>airbnb-rtt</td>\n",
       "      <td>숙소 위치는 찾기 쉽고 일반적인 한국의 반지하 숙소입니다.</td>\n",
       "      <td>숙박시설의 위치는 쉽게 찾을 수 있고 한국의 대표적인 반지하 숙박시설입니다.</td>\n",
       "      <td>{'label': 3.7, 'real-label': 3.714285714285714...</td>\n",
       "      <td>{'agreement': '0:0:0:2:5:0', 'annotators': ['0...</td>\n",
       "    </tr>\n",
       "    <tr>\n",
       "      <th>1</th>\n",
       "      <td>klue-sts-v1_train_00001</td>\n",
       "      <td>policy-sampled</td>\n",
       "      <td>위반행위 조사 등을 거부·방해·기피한 자는 500만원 이하 과태료 부과 대상이다.</td>\n",
       "      <td>시민들 스스로 자발적인 예방 노력을 한 것은 아산 뿐만이 아니었다.</td>\n",
       "      <td>{'label': 0.0, 'real-label': 0.0, 'binary-labe...</td>\n",
       "      <td>{'agreement': '5:0:0:0:0:0', 'annotators': ['1...</td>\n",
       "    </tr>\n",
       "    <tr>\n",
       "      <th>2</th>\n",
       "      <td>klue-sts-v1_train_00002</td>\n",
       "      <td>paraKQC-sampled</td>\n",
       "      <td>회사가 보낸 메일은 이 지메일이 아니라 다른 지메일 계정으로 전달해줘.</td>\n",
       "      <td>사람들이 주로 네이버 메일을 쓰는 이유를 알려줘</td>\n",
       "      <td>{'label': 0.30000000000000004, 'real-label': 0...</td>\n",
       "      <td>{'agreement': '4:2:0:0:0:0', 'annotators': ['1...</td>\n",
       "    </tr>\n",
       "    <tr>\n",
       "      <th>3</th>\n",
       "      <td>klue-sts-v1_train_00003</td>\n",
       "      <td>policy-sampled</td>\n",
       "      <td>긴급 고용안정지원금은 지역고용대응 등 특별지원금, 지자체별 소상공인 지원사업, 취업...</td>\n",
       "      <td>고용보험이 1차 고용안전망이라면, 국민취업지원제도는 2차 고용안전망입니다.</td>\n",
       "      <td>{'label': 0.6000000000000001, 'real-label': 0....</td>\n",
       "      <td>{'agreement': '4:2:1:0:0:0', 'annotators': ['1...</td>\n",
       "    </tr>\n",
       "    <tr>\n",
       "      <th>4</th>\n",
       "      <td>klue-sts-v1_train_00004</td>\n",
       "      <td>airbnb-rtt</td>\n",
       "      <td>호스트의 답장이 늦으나, 개선될 것으로 보입니다.</td>\n",
       "      <td>호스트 응답이 늦었지만 개선될 것으로 보입니다.</td>\n",
       "      <td>{'label': 4.7, 'real-label': 4.714285714285714...</td>\n",
       "      <td>{'agreement': '0:0:0:0:2:5', 'annotators': ['1...</td>\n",
       "    </tr>\n",
       "    <tr>\n",
       "      <th>...</th>\n",
       "      <td>...</td>\n",
       "      <td>...</td>\n",
       "      <td>...</td>\n",
       "      <td>...</td>\n",
       "      <td>...</td>\n",
       "      <td>...</td>\n",
       "    </tr>\n",
       "    <tr>\n",
       "      <th>44366</th>\n",
       "      <td>klue-sts-v1_train_11666</td>\n",
       "      <td>airbnb-rtt</td>\n",
       "      <td>개 1마리 개 고양이 3마리 너무 귀여워요!</td>\n",
       "      <td>개 한 마리와 고양이 세 마리는 정말 귀여워요!</td>\n",
       "      <td>{'label': 4.7, 'real-label': 4.714285714285714...</td>\n",
       "      <td>{'agreement': '0:0:0:0:2:5', 'annotators': ['1...</td>\n",
       "    </tr>\n",
       "    <tr>\n",
       "      <th>44367</th>\n",
       "      <td>klue-sts-v1_train_11667</td>\n",
       "      <td>paraKQC-para</td>\n",
       "      <td>학회 홍보 메일은 회신 메일을 학 보내지마</td>\n",
       "      <td>학회 홍보 메일은 회신 하지마</td>\n",
       "      <td>{'label': 3.3, 'real-label': 3.333333333333333...</td>\n",
       "      <td>{'agreement': '0:0:1:2:3:0', 'annotators': ['1...</td>\n",
       "    </tr>\n",
       "    <tr>\n",
       "      <th>44368</th>\n",
       "      <td>klue-sts-v1_train_11667</td>\n",
       "      <td>paraKQC-para</td>\n",
       "      <td>학 홍보 메일은 회신 메일을 보내지마</td>\n",
       "      <td>학회 홍보 메일은 회신 하지마</td>\n",
       "      <td>{'label': 3.3, 'real-label': 3.333333333333333...</td>\n",
       "      <td>{'agreement': '0:0:1:2:3:0', 'annotators': ['1...</td>\n",
       "    </tr>\n",
       "    <tr>\n",
       "      <th>44369</th>\n",
       "      <td>klue-sts-v1_train_11667</td>\n",
       "      <td>paraKQC-para</td>\n",
       "      <td>홍보 회신 메일을 보내지마</td>\n",
       "      <td>학회 홍보 메일은 회신 하지마</td>\n",
       "      <td>{'label': 3.3, 'real-label': 3.333333333333333...</td>\n",
       "      <td>{'agreement': '0:0:1:2:3:0', 'annotators': ['1...</td>\n",
       "    </tr>\n",
       "    <tr>\n",
       "      <th>44370</th>\n",
       "      <td>klue-sts-v1_train_11667</td>\n",
       "      <td>paraKQC-para</td>\n",
       "      <td>보내지마 홍보 메일은 회신 메일을 학회</td>\n",
       "      <td>학회 홍보 메일은 회신 하지마</td>\n",
       "      <td>{'label': 3.3, 'real-label': 3.333333333333333...</td>\n",
       "      <td>{'agreement': '0:0:1:2:3:0', 'annotators': ['1...</td>\n",
       "    </tr>\n",
       "  </tbody>\n",
       "</table>\n",
       "<p>44370 rows × 6 columns</p>\n",
       "</div>"
      ],
      "text/plain": [
       "                          guid           source  \\\n",
       "0      klue-sts-v1_train_00000       airbnb-rtt   \n",
       "1      klue-sts-v1_train_00001   policy-sampled   \n",
       "2      klue-sts-v1_train_00002  paraKQC-sampled   \n",
       "3      klue-sts-v1_train_00003   policy-sampled   \n",
       "4      klue-sts-v1_train_00004       airbnb-rtt   \n",
       "...                        ...              ...   \n",
       "44366  klue-sts-v1_train_11666       airbnb-rtt   \n",
       "44367  klue-sts-v1_train_11667     paraKQC-para   \n",
       "44368  klue-sts-v1_train_11667     paraKQC-para   \n",
       "44369  klue-sts-v1_train_11667     paraKQC-para   \n",
       "44370  klue-sts-v1_train_11667     paraKQC-para   \n",
       "\n",
       "                                               sentence1  \\\n",
       "0                       숙소 위치는 찾기 쉽고 일반적인 한국의 반지하 숙소입니다.   \n",
       "1          위반행위 조사 등을 거부·방해·기피한 자는 500만원 이하 과태료 부과 대상이다.   \n",
       "2                회사가 보낸 메일은 이 지메일이 아니라 다른 지메일 계정으로 전달해줘.   \n",
       "3      긴급 고용안정지원금은 지역고용대응 등 특별지원금, 지자체별 소상공인 지원사업, 취업...   \n",
       "4                            호스트의 답장이 늦으나, 개선될 것으로 보입니다.   \n",
       "...                                                  ...   \n",
       "44366                           개 1마리 개 고양이 3마리 너무 귀여워요!   \n",
       "44367                            학회 홍보 메일은 회신 메일을 학 보내지마   \n",
       "44368                               학 홍보 메일은 회신 메일을 보내지마   \n",
       "44369                                     홍보 회신 메일을 보내지마   \n",
       "44370                              보내지마 홍보 메일은 회신 메일을 학회   \n",
       "\n",
       "                                        sentence2  \\\n",
       "0      숙박시설의 위치는 쉽게 찾을 수 있고 한국의 대표적인 반지하 숙박시설입니다.   \n",
       "1           시민들 스스로 자발적인 예방 노력을 한 것은 아산 뿐만이 아니었다.   \n",
       "2                      사람들이 주로 네이버 메일을 쓰는 이유를 알려줘   \n",
       "3       고용보험이 1차 고용안전망이라면, 국민취업지원제도는 2차 고용안전망입니다.   \n",
       "4                      호스트 응답이 늦었지만 개선될 것으로 보입니다.   \n",
       "...                                           ...   \n",
       "44366                  개 한 마리와 고양이 세 마리는 정말 귀여워요!   \n",
       "44367                            학회 홍보 메일은 회신 하지마   \n",
       "44368                            학회 홍보 메일은 회신 하지마   \n",
       "44369                            학회 홍보 메일은 회신 하지마   \n",
       "44370                            학회 홍보 메일은 회신 하지마   \n",
       "\n",
       "                                                  labels  \\\n",
       "0      {'label': 3.7, 'real-label': 3.714285714285714...   \n",
       "1      {'label': 0.0, 'real-label': 0.0, 'binary-labe...   \n",
       "2      {'label': 0.30000000000000004, 'real-label': 0...   \n",
       "3      {'label': 0.6000000000000001, 'real-label': 0....   \n",
       "4      {'label': 4.7, 'real-label': 4.714285714285714...   \n",
       "...                                                  ...   \n",
       "44366  {'label': 4.7, 'real-label': 4.714285714285714...   \n",
       "44367  {'label': 3.3, 'real-label': 3.333333333333333...   \n",
       "44368  {'label': 3.3, 'real-label': 3.333333333333333...   \n",
       "44369  {'label': 3.3, 'real-label': 3.333333333333333...   \n",
       "44370  {'label': 3.3, 'real-label': 3.333333333333333...   \n",
       "\n",
       "                                             annotations  \n",
       "0      {'agreement': '0:0:0:2:5:0', 'annotators': ['0...  \n",
       "1      {'agreement': '5:0:0:0:0:0', 'annotators': ['1...  \n",
       "2      {'agreement': '4:2:0:0:0:0', 'annotators': ['1...  \n",
       "3      {'agreement': '4:2:1:0:0:0', 'annotators': ['1...  \n",
       "4      {'agreement': '0:0:0:0:2:5', 'annotators': ['1...  \n",
       "...                                                  ...  \n",
       "44366  {'agreement': '0:0:0:0:2:5', 'annotators': ['1...  \n",
       "44367  {'agreement': '0:0:1:2:3:0', 'annotators': ['1...  \n",
       "44368  {'agreement': '0:0:1:2:3:0', 'annotators': ['1...  \n",
       "44369  {'agreement': '0:0:1:2:3:0', 'annotators': ['1...  \n",
       "44370  {'agreement': '0:0:1:2:3:0', 'annotators': ['1...  \n",
       "\n",
       "[44370 rows x 6 columns]"
      ]
     },
     "execution_count": 98,
     "metadata": {},
     "output_type": "execute_result"
    }
   ],
   "source": [
    "train_aug = augmentation(train_, 5)\n",
    "train_aug     # 11668 -> 44370"
   ]
  },
  {
   "cell_type": "code",
   "execution_count": 104,
   "metadata": {},
   "outputs": [
    {
     "data": {
      "text/plain": [
       "0"
      ]
     },
     "execution_count": 104,
     "metadata": {},
     "output_type": "execute_result"
    }
   ],
   "source": [
    "train_aug['sentence1'].isnull().sum()"
   ]
  },
  {
   "cell_type": "code",
   "execution_count": null,
   "metadata": {},
   "outputs": [],
   "source": []
  }
 ],
 "metadata": {
  "kernelspec": {
   "display_name": "Python 3",
   "language": "python",
   "name": "python3"
  },
  "language_info": {
   "codemirror_mode": {
    "name": "ipython",
    "version": 3
   },
   "file_extension": ".py",
   "mimetype": "text/x-python",
   "name": "python",
   "nbconvert_exporter": "python",
   "pygments_lexer": "ipython3",
   "version": "3.7.6"
  }
 },
 "nbformat": 4,
 "nbformat_minor": 4
}
